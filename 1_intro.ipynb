{
 "cells": [
  {
   "cell_type": "markdown",
   "metadata": {},
   "source": [
    "# Introducion\n",
    "\n",
    "https://github.com/carlcri/pip_entornos\n",
    " "
   ]
  },
  {
   "cell_type": "markdown",
   "metadata": {},
   "source": [
    "## Instalación en Windows (WSL) y Linux\n",
    "\n",
    "Instalacion de Python. \n",
    "\n",
    "## Python con VSCode\n",
    "\n",
    "Instalacion de extensiones:\n",
    "\n",
    "- pyhton\n",
    "- WSL si estas trabajando con WSL\n",
    "\n",
    "## Python con Git y GitHub\n",
    "\n",
    "### Crear el repositorio\n",
    "\n",
    "https://github.com/carlcri/pip_entornos \n",
    "\n",
    "### gitignore io\n",
    "\n",
    "Es una herramienta muy util: https://www.toptal.com/developers/gitignore \n",
    "\n",
    "![](https://i.imgur.com/2vNpHD0.png)\n",
    "\n",
    "Como buena practica se selecionan los tres SO porque no sabemos en que maquina estara trabajando otros miembros del equipo.\n",
    "\n",
    "Copiamos y guardamos.\n",
    "\n",
    "### README\n",
    "\n",
    "El **README** es un archivo con extensión .md, es decir, está escrito en Markdown, que es un lenguaje de marcado utilizado para convertir texto en HTML válido.\n",
    "\n",
    "En plataformas de repositorios remotos como GitHub, la función de este archivo es presentar información del proyecto, como:\n",
    "\n",
    "- Descripción de su proyecto\n",
    "\n",
    "- Funcionalidades;\n",
    "\n",
    "- Cómo pueden usarlo los usuarios;\n",
    "\n",
    "- Donde los usuarios pueden encontrar ayuda sobre su proyecto;\n",
    "\n",
    "- Autores del proyecto.\n",
    "\n",
    "Si quieren consejos de como crear un buen README les recomiendo:\n",
    "\n",
    "https://www.makeareadme.com/ \n",
    "\n"
   ]
  },
  {
   "cell_type": "markdown",
   "metadata": {},
   "source": [
    "## Flujo de trabajo en Python\n",
    "\n"
   ]
  }
 ],
 "metadata": {
  "language_info": {
   "name": "python"
  },
  "orig_nbformat": 4
 },
 "nbformat": 4,
 "nbformat_minor": 2
}
