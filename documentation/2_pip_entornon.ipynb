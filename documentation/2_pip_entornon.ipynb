{
 "cells": [
  {
   "cell_type": "markdown",
   "metadata": {},
   "source": [
    "# PIP y Entornos Virtuales"
   ]
  },
  {
   "cell_type": "markdown",
   "metadata": {},
   "source": [
    "## ¿Que es PIP?\n",
    "\n",
    "Gestor de paquetes de Python: busca en google **pypi**\n",
    "\n",
    "https://pypi.org/ *Find, install and publish Python packages with the Python Package Index*\n",
    "\n",
    "Busquemos por ejemplo *matplotlib*, y encontramos esta es su ultima version:\n",
    "\n",
    "![](https://i.imgur.com/Ixlp5ZD.png)\n",
    "\n",
    "Y nos indica ademas como instalar esa libreria o paquete:\n",
    "\n",
    "    pip install matplotlib\n",
    "\n",
    "Verifica la version de pip instalada(tenemos la 3.10):\n",
    "\n",
    "    pip -V\n",
    "    pip3 -V\n",
    "\n",
    "Para ver que liberias estan instaladas:\n",
    "\n",
    "    pip freeze\n",
    "\n",
    "### Ejemplo\n",
    "\n",
    "Se crear un nuevo proyecto llamado *charts*. Basicamente creamos un *pie chart*, note que no se usa *plt.show*, porque en este caso se quiere el programa no quede detenido, asi que le indicamos la salve en un archivo\n",
    "\n",
    "```py\n",
    "import matplotlib.pyplot as plt\n",
    "\n",
    "def generate_pie_chart():\n",
    "    labels = ['A', 'B', 'C']\n",
    "    values = [200, 34, 120]\n",
    "\n",
    "    fig, ax = plt.subplots()\n",
    "    ax.pie(values, labels=labels)\n",
    "    plt.savefig('pie.png')\n",
    "    plt.close()\n",
    "\n",
    "```\n",
    "\n",
    "Y en nuestro *main.py* importamos el modulo. Me voy adelantar un poco, y creare un ambiente vitual donde instalare *matplotlib*. Ejecutare el script. Y ahora hay un nuevo archivo.\n"
   ]
  },
  {
   "cell_type": "markdown",
   "metadata": {},
   "source": [
    "## Gráficas en Python con PIP\n",
    "\n",
    "Usaremos un *csv* para generar graficas usando *matplotlib*. Crearemos una nueva carpeta llamada **app**, donde guardaremos los archivos:\n",
    "\n",
    "![](https://i.imgur.com/3m0ht8l.png)\n",
    "\n",
    "No olvides crear una carpeta *imgs*\n"
   ]
  },
  {
   "cell_type": "markdown",
   "metadata": {},
   "source": [
    "## Ambientes Virtuales\n",
    "\n",
    "Cada proyecto puede tener sus propias dependencias y versiones. SI vamos al *release history* encontraremos todas las versiones anteriores:\n",
    "\n",
    "![](https://i.imgur.com/iGACGhc.png)\n",
    "\n",
    "Evitemos conflictos entre versiones, y usemos ambientes virtuales"
   ]
  },
  {
   "cell_type": "markdown",
   "metadata": {},
   "source": [
    "## Usando entornos virtuales en Python\n",
    "\n",
    "¿Donde se esta ejecutando Python?\n",
    "\n",
    "```sh\n",
    "which python3\n",
    "```\n",
    "Si estas usando la version global, nos indicara que la estamos ejecutando desde\n",
    "\n",
    "    /usr/bin/python3\n",
    "\n",
    "Mientras que si usamos el ambiente virtual:\n",
    "\n",
    "    /home/carlos/Documents/pip_entornos/env/bin/python\n",
    "\n",
    "¿Ves la diferencia?\n",
    "\n",
    "Lo mismo pasaria para *pip*\n",
    "\n"
   ]
  },
  {
   "cell_type": "markdown",
   "metadata": {},
   "source": [
    "### Practica\n",
    "\n",
    "Borra el ambiente virtual, borrando el directorio *env*. \n",
    "\n",
    "```sh\n",
    "sudo apt install -y python3.10-venv \n",
    "```\n",
    "\n",
    "No se para que es la *y*.\n",
    "\n",
    "Crearemos un nuevo ambiente virtual, y lo activamos\n",
    "\n",
    "```sh\n",
    "python3 -m venv env \n",
    "ll\n",
    "source env/bin/activate\n",
    "\n",
    "```\n",
    "Con *pip freeze* no habra ninguna dependencia instalada. Para la practica, asegurate de crear el ambiente virtual dentro de la carpeta *app*.\n",
    "\n"
   ]
  },
  {
   "cell_type": "markdown",
   "metadata": {},
   "source": [
    "## Requirements.txt\n",
    "\n",
    "Este archivo gestiona automaticamente todas las dependencias para el proyecto. Podemos por ejemplo llevar la *sto(standart output)* del comando *pip freeze* al archivo\n",
    "\n",
    "```sh\n",
    "pip freeze > requirements.txt\n",
    "pip3 install -r requirements.txt\n",
    "```\n",
    "Como buena practica, agregamos unas instrucciones al *README*\n",
    "\n",
    "### Contribuyendo al proyecto\n",
    "\n",
    "Una opcion es hacer un *git clone*, pero otra forma mas profesional es hacer un *fork* del proyecto, vamos al repo original:\n",
    "\n",
    "https://github.com/platzi/curso-python-pip \n",
    "\n",
    "Pero ingresemos mejor desde la cuenta *gataapestosa* y desde ahi hacemos el *fork*:\n",
    "\n",
    "![](https://i.imgur.com/8X7Or5p.png)\n"
   ]
  },
  {
   "cell_type": "markdown",
   "metadata": {},
   "source": [
    "Aqui esta la nueva direccion del repo pero forkiado:\n",
    "\n",
    "https://github.com/gataapestosa/curso-python-pip \n",
    "\n",
    "Observa te indica:\n",
    "\n",
    "![](https://i.imgur.com/wn1vgFn.png)\n",
    "\n",
    "Y es este repositorio el que clonamos. \n",
    "\n",
    "Vamos a:\n",
    "\n",
    "    /home/carlos/Documents/warehouse/anita\n",
    "\n",
    "Y desde ahi lo clonamos:\n",
    "\n",
    "    git clone https://github.com/gataapestosa/curso-python-pip.git\n"
   ]
  }
 ],
 "metadata": {
  "kernelspec": {
   "display_name": "Python 3",
   "language": "python",
   "name": "python3"
  },
  "language_info": {
   "name": "python",
   "version": "3.10.12"
  },
  "orig_nbformat": 4
 },
 "nbformat": 4,
 "nbformat_minor": 2
}
