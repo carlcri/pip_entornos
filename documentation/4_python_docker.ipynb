{
 "cells": [
  {
   "cell_type": "markdown",
   "metadata": {},
   "source": [
    "# Python en Contendedores Docker"
   ]
  },
  {
   "cell_type": "markdown",
   "metadata": {},
   "source": [
    "## Que es docker\n",
    "\n",
    "Una tecnologia muy interesante. Desplegarlo facilmetne a Google Cloud, AWS, etc\n",
    "\n",
    "## Dockerizando scripts de Python\n",
    "\n",
    "Vamos a dockerizar dos tipos de aplicaciones, en una en la cual solo se corre codigo o scripts, y otra donde se necesita el servidos WEB encendido y respondiendo peticiones.\n",
    "\n",
    "### Dockerizando app\n",
    "\n",
    "Ve a la carpeta con el mismo nombre. Creamos dentro de la carpeta el *Dockerfile*\n",
    "\n",
    "![](https://i.imgur.com/f7WdBqN.png)\n",
    "\n",
    "\n",
    "- WORKDIR: Hence, it can be said that the command performs **mkdir** and **cd** implicitly.\n",
    "\n",
    "- con CMD bash -c \"while true; do sleep 1; done\" Se mantiene un ciclo infino para mantener arriba el contenedor\n",
    "\n",
    "Me costo mucho trabajo entender el comando *WORKDIR*, y por eso tuve problemas con el comando COPY\n",
    "\n",
    "#### Lectura: no-cache-dir\n",
    "\n",
    "**--no-cache-dir** es una opción que se utiliza al ejecutar el comando *pip* en Python. Esta opción se utiliza para evitar que pip utilice o almacene en caché paquetes descargados.\n",
    "\n",
    "Cuando instalas paquetes usando pip, a menudo se descargan de un repositorio en línea (como PyPI, el Índice de Paquetes de Python). Estos paquetes se almacenan en un directorio de caché local para evitar tener que descargarlos nuevamente si los necesitas en el futuro\n",
    "\n",
    "Sin embargo, en algunas situaciones, como cuando estás desarrollando o trabajando en un entorno de construcción automatizado (como en DevOps), es posible que desees evitar el uso del caché para asegurarte de que siempre obtienes la última versión del paquete desde el repositorio.\n",
    "\n",
    "Entonces, al usar --no-cache-dir, estás instruyendo a pip para que ignore el caché local y descargue los paquetes directamente del repositorio en línea.\n",
    "\n",
    "Por ejemplo, si ejecutas:\n",
    "\n",
    "```sh\n",
    "pip install --no-cache-dir nombre_del_paquete\n",
    "```\n",
    "\n",
    "Estás instalando nombre_del_paquete sin usar el caché local.\n",
    "\n",
    "Esta opción es útil en situaciones donde la consistencia y la actualización de los paquetes son críticas, como en entornos de construcción automatizados o cuando estás trabajando en un proyecto donde se realizan cambios frecuentes en las dependencias."
   ]
  },
  {
   "cell_type": "markdown",
   "metadata": {},
   "source": [
    "### Archivo docker-compose.yml\n",
    "\n",
    "Como y desde donde se va inicializar el contenedor que acabamos de crear. \n",
    "\n",
    "![](https://i.imgur.com/JzqrzGr.png)\n",
    "\n",
    "- Lo primero es definir una etiqueta llamada *services*, y se le coloca un nombre al servicio: *app-csv*\n",
    "- El contexto de build seria desde el directorio donde ejecuto el comando. Asegurse estar en la carpeta *app*. \n",
    "- El dockerfile sera el Dockerfile que acabamos de crear\n",
    "\n",
    "\n",
    "#### Usando docker compose\n",
    "\n",
    "```sh\n",
    "docker compose build\n",
    "```\n",
    "\n",
    "- Y luego para levantar el servicio:\n",
    "\n",
    "```sh\n",
    "docker compose up -d\n",
    "```\n",
    "\n",
    "- Verifica que el contenendor este activo, y luego, ejecuta una terminal dentro del mismo:\n",
    "\n",
    "```sh\n",
    "docker compose exec app-csv bash\n",
    "```"
   ]
  },
  {
   "cell_type": "markdown",
   "metadata": {},
   "source": [
    "Y funcionara como era de esperarse:\n",
    "\n",
    "![](https://i.imgur.com/Qpc9PsE.png)"
   ]
  },
  {
   "cell_type": "markdown",
   "metadata": {},
   "source": [
    "- Para parar el contenedor, puedes usar:\n",
    "\n",
    "```sh\n",
    "docker compose down\n",
    "```"
   ]
  },
  {
   "cell_type": "markdown",
   "metadata": {},
   "source": [
    "## Docker para el día a día: automatizando la vinculación de archivos\n",
    "\n",
    "Enlazar tu sistema de archivos con el que esta en el contenedor. En este momento no lo esta. Si hacemos un cambio, tendriamos que hacer un build, y todo lo demas, dañando la experiencia de desarrollo.\n",
    "\n",
    "Podemos hacer una especie de *live reloading* entre mis archivos y el mismo contenedor.\n",
    "\n",
    "### Modificando\n",
    "\n",
    "Agregamos una nueva etiqueta **volumes**: la configuracion no es compleja\n",
    "\n",
    "![](https://i.imgur.com/4hkhrpj.png)\n",
    "\n",
    "Significa que este contexto, esta enlazado(:), con la carpeta *app* que esta dentro del contenedor"
   ]
  },
  {
   "cell_type": "markdown",
   "metadata": {},
   "source": [
    "### Subiendo el contenedor\n",
    "\n",
    "No sera necesario realizar un *build*, simplemente volver a levantar el contenedor:\n",
    "\n",
    "- docker compose up -d\n",
    "\n",
    "Cambia cualquier linea dentro de tu codigo, y veras que esa actualizacion tambien ocurre dentro de tu contenedor.😎"
   ]
  },
  {
   "cell_type": "markdown",
   "metadata": {},
   "source": [
    "## Dockerizando web services\n",
    "\n",
    "Vamos de nuevo al proyecto **web-server** para dockerizarla.\n",
    "\n",
    "El *Dockerfile* sera casi identico al anterior, excepto por la ultima linea, es una lista donde se le estan dando las instrucciones:\n",
    "\n",
    "### docker build\n",
    "\n",
    "Al momento de construir la imagen salio un error, que al parecer era por la ambiguedad de unos paquetes. Asi que decidi al momento de construir el *Dockerfile* no usar la version latest, sino la misma del profesor:\n",
    "\n",
    "![](https://i.imgur.com/2QQG0b6.png)\n",
    "\n",
    "### docker-compose.yml\n",
    "\n",
    "Lo unico, es que mapeo el puerto 8080 de mi maquina con el puerto 80 del contenedor que es donde correr el servicio:\n",
    "\n",
    "![](https://i.imgur.com/cUN8myh.png)\n",
    "\n",
    "- Vuelvo a correr el build, y a levantar el contenedor\n",
    "\n",
    "```sh\n",
    "docker compose build\n",
    "docker compose up -d\n",
    "```\n",
    "\n",
    "Y voy a un navegador y *http://localhost:8080/contact*\n",
    "\n",
    "![](https://i.imgur.com/y2BvF4N.png)\n"
   ]
  },
  {
   "cell_type": "markdown",
   "metadata": {},
   "source": [
    "## Continuar tu carrera profesional\n"
   ]
  }
 ],
 "metadata": {
  "language_info": {
   "name": "python"
  },
  "orig_nbformat": 4
 },
 "nbformat": 4,
 "nbformat_minor": 2
}
